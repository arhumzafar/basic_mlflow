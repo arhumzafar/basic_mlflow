{
 "cells": [
  {
   "cell_type": "markdown",
   "source": [
    "### Import Libraries"
   ],
   "metadata": {
    "slideshow": {
     "slide_type": "-"
    }
   }
  },
  {
   "cell_type": "code",
   "execution_count": 5,
   "source": [
    "import pickle\n",
    "from sklearn.metrics import accuracy_score, classification_report, confusion_matrix\n",
    "from sklearn.preprocessing import MinMaxScaler\n",
    "from sklearn.neighbors import KNeighborsClassifier\n",
    "from sklearn.tree import DecisionTreeClassifier\n",
    "from sklearn.model_selection import train_test_split, cross_val_score\n",
    "\n",
    "import pandas as pd\n",
    "import datetime"
   ],
   "outputs": [],
   "metadata": {
    "ExecuteTime": {
     "end_time": "2021-12-11T08:17:56.489839Z",
     "start_time": "2021-12-11T08:17:56.042500Z"
    },
    "slideshow": {
     "slide_type": "-"
    }
   }
  },
  {
   "cell_type": "code",
   "execution_count": 6,
   "source": [
    "import mlflow"
   ],
   "outputs": [],
   "metadata": {}
  },
  {
   "cell_type": "markdown",
   "source": [
    "### Code\n",
    "\n",
    "The following functions are used for creating binary classifier<br/>\n",
    "1. **transform_data** - Transforms Data using a MinMaxScaler, fits the data and saves the scaler\n",
    "2. **train_model** - Performs Test/Train Split, trains a KNN Classifier. Returns Model and metrics.\n",
    "3. **scale_data** - Scale the given input as per the given scaler."
   ],
   "metadata": {
    "slideshow": {
     "slide_type": "-"
    }
   }
  },
  {
   "cell_type": "code",
   "execution_count": 7,
   "source": [
    "def transform_data(data, scaler_name):\n",
    "    X = data.drop(columns=[\"label\"], axis=1)\n",
    "    y = data[[\"label\"]]\n",
    "\n",
    "    scaler = None\n",
    "\n",
    "    try:\n",
    "        with open(\"./\"+scaler_name+\".pkl\", \"rb\") as fp:\n",
    "            scaler = pickle.load(fp)\n",
    "    except FileNotFoundError as e:\n",
    "        print(\"Scaler Not Found! Will create a new one.\")\n",
    "        scaler = MinMaxScaler()\n",
    "\n",
    "    scaler.partial_fit(X)\n",
    "    X = scaler.transform(X)\n",
    "\n",
    "    scale = {\n",
    "        \"min\": scaler.data_min_,\n",
    "        \"max\": scaler.data_max_\n",
    "    }\n",
    "\n",
    "    with open(\"./\"+scaler_name+\".pkl\", \"wb\") as fp:\n",
    "        print('Saving Scaler...', scale)\n",
    "        pickle.dump(scaler, fp)\n",
    "\n",
    "    return X, y[\"label\"]"
   ],
   "outputs": [],
   "metadata": {
    "ExecuteTime": {
     "end_time": "2021-12-11T08:17:59.366855Z",
     "start_time": "2021-12-11T08:17:59.361497Z"
    },
    "slideshow": {
     "slide_type": "-"
    }
   }
  },
  {
   "cell_type": "code",
   "execution_count": 9,
   "source": [
    "def train_model(X, y, model):\n",
    "    X_train, X_test, y_train, y_test = train_test_split(\n",
    "        X, y, test_size=0.2, random_state=1)\n",
    "    model.fit(X_train, y_train)\n",
    "    y_pred = model.predict(X_test)\n",
    "    metrics = {\n",
    "        \"accuracy\": accuracy_score(y_test, y_pred),\n",
    "        \"cv_score\": cross_val_score(model, X, y, cv=10),\n",
    "        \"class_report\": classification_report(y_test, y_pred, output_dict=True),\n",
    "        \"confusion_matrix\": confusion_matrix(y_test, y_pred)\n",
    "    }\n",
    "    return metrics"
   ],
   "outputs": [],
   "metadata": {
    "ExecuteTime": {
     "end_time": "2021-12-11T08:18:01.953060Z",
     "start_time": "2021-12-11T08:18:01.948563Z"
    },
    "slideshow": {
     "slide_type": "-"
    }
   }
  },
  {
   "cell_type": "code",
   "execution_count": 10,
   "source": [
    "def scale_data(scaler_name,datadf):\n",
    "    scaler = None\n",
    "    with open(\"./\"+scaler_name+\".pkl\", \"rb\") as fp:\n",
    "        scaler = pickle.load(fp)\n",
    "    data = scaler.transform(datadf)\n",
    "    return data"
   ],
   "outputs": [],
   "metadata": {
    "ExecuteTime": {
     "end_time": "2021-12-11T08:18:04.406083Z",
     "start_time": "2021-12-11T08:18:04.399084Z"
    },
    "slideshow": {
     "slide_type": "subslide"
    }
   }
  },
  {
   "cell_type": "markdown",
   "source": [
    "---"
   ],
   "metadata": {
    "ExecuteTime": {
     "end_time": "2021-11-29T13:14:38.025911Z",
     "start_time": "2021-11-29T13:14:38.018473Z"
    }
   }
  },
  {
   "cell_type": "markdown",
   "source": [
    "### Training and Tracking  - KNN\n",
    "\n",
    "Train model on individual data and then test the model on testdata"
   ],
   "metadata": {}
  },
  {
   "cell_type": "code",
   "execution_count": 11,
   "source": [
    "import mlflow\n",
    "from mlflow.models.signature import infer_signature\n",
    "mlflow.set_tracking_uri(\"http://127.0.0.1:5000/\")\n",
    "mlflow.set_experiment(\"Red-Blue-Experiment\")"
   ],
   "outputs": [
    {
     "output_type": "stream",
     "name": "stderr",
     "text": [
      "2021/12/22 20:35:53 INFO mlflow.tracking.fluent: Experiment with name 'Red-Blue-Experiment' does not exist. Creating a new experiment.\n"
     ]
    },
    {
     "output_type": "execute_result",
     "data": {
      "text/plain": [
       "<Experiment: artifact_location='./mlruns/1', experiment_id='1', lifecycle_stage='active', name='Red-Blue-Experiment', tags={}>"
      ]
     },
     "metadata": {},
     "execution_count": 11
    }
   ],
   "metadata": {
    "ExecuteTime": {
     "end_time": "2021-12-11T08:18:07.400451Z",
     "start_time": "2021-12-11T08:18:06.940182Z"
    }
   }
  },
  {
   "cell_type": "code",
   "execution_count": 12,
   "source": [
    "datas = [\"./data/sample\"+str(i)+\".csv\" for i in range(1,11)]\n",
    "print(datas)"
   ],
   "outputs": [
    {
     "output_type": "stream",
     "name": "stdout",
     "text": [
      "['./data/sample1.csv', './data/sample2.csv', './data/sample3.csv', './data/sample4.csv', './data/sample5.csv', './data/sample6.csv', './data/sample7.csv', './data/sample8.csv', './data/sample9.csv', './data/sample10.csv']\n"
     ]
    }
   ],
   "metadata": {
    "ExecuteTime": {
     "end_time": "2021-12-11T08:18:11.257249Z",
     "start_time": "2021-12-11T08:18:11.251166Z"
    }
   }
  },
  {
   "cell_type": "code",
   "execution_count": 13,
   "source": [
    "model = KNeighborsClassifier(n_neighbors=7,leaf_size=40)\n",
    "params = {\"neighbours\":7,\"leaf_size\":40}"
   ],
   "outputs": [],
   "metadata": {
    "ExecuteTime": {
     "end_time": "2021-12-11T08:18:13.969421Z",
     "start_time": "2021-12-11T08:18:13.966206Z"
    }
   }
  },
  {
   "cell_type": "markdown",
   "source": [],
   "metadata": {}
  },
  {
   "cell_type": "code",
   "execution_count": 14,
   "source": [
    "for i,data in enumerate(datas):\n",
    "    print(\"Training on: \",data)\n",
    "    \n",
    "    df = pd.read_csv(data)\n",
    "    X, y = transform_data(df,\"scaler-knn\")  \n",
    "    \n",
    "    tag = {\"data\":\"sample\"+str(i), \"model\": \"KNN\"}\n",
    "    runname = \"knn-test-run-\" + str(datetime.datetime.now()).replace(\" \",\"T\")\n",
    "    with mlflow.start_run(run_name=runname) as run:\n",
    "        mlflow.set_tags(tag)                                    # Tags to help in tracking\n",
    "\n",
    "        metrics = train_model(X, y, model)                      # Training the model\n",
    "        mlflow.log_params(params)                               # Log params/hyperparameters used in experiement\n",
    "        \n",
    "        mlflow.log_metric(\"Avg CV\",sum(metrics[\"cv_score\"])/10) # Log metrics of the experiement\n",
    "        mlflow.log_metric(\"Accuracy\", metrics[\"accuracy\"])\n",
    "        \n",
    "        signature = infer_signature(X, model.predict(X))\n",
    "        mlflow.sklearn.log_model(model, artifact_path=\"models\", signature=signature) # Log model created\n",
    "    mlflow.end_run()\n",
    "print(\"Training Complete.\")"
   ],
   "outputs": [
    {
     "output_type": "stream",
     "name": "stdout",
     "text": [
      "Training on:  ./data/sample1.csv\n",
      "Saving Scaler... {'min': array([-16.26008744, -14.70411995]), 'max': array([13.06496848, 15.24576771])}\n",
      "Training on:  ./data/sample2.csv\n",
      "Saving Scaler... {'min': array([-16.26008744, -14.70411995]), 'max': array([13.06496848, 15.24576771])}\n",
      "Training on:  ./data/sample3.csv\n",
      "Saving Scaler... {'min': array([-16.26008744, -14.70411995]), 'max': array([13.06496848, 15.24576771])}\n",
      "Training on:  ./data/sample4.csv\n",
      "Saving Scaler... {'min': array([-16.26008744, -16.99325222]), 'max': array([13.06496848, 15.24576771])}\n",
      "Training on:  ./data/sample5.csv\n",
      "Saving Scaler... {'min': array([-16.26008744, -16.99325222]), 'max': array([13.06496848, 15.24576771])}\n",
      "Training on:  ./data/sample6.csv\n",
      "Saving Scaler... {'min': array([-16.26008744, -16.99325222]), 'max': array([13.06496848, 15.24576771])}\n",
      "Training on:  ./data/sample7.csv\n",
      "Saving Scaler... {'min': array([-16.26008744, -16.99325222]), 'max': array([13.06496848, 15.24576771])}\n",
      "Training on:  ./data/sample8.csv\n",
      "Saving Scaler... {'min': array([-16.26008744, -16.99325222]), 'max': array([13.06496848, 15.24576771])}\n",
      "Training on:  ./data/sample9.csv\n",
      "Saving Scaler... {'min': array([-16.26008744, -16.99325222]), 'max': array([13.06496848, 15.24576771])}\n",
      "Training on:  ./data/sample10.csv\n",
      "Saving Scaler... {'min': array([-16.26008744, -16.99325222]), 'max': array([13.06496848, 16.0638389 ])}\n",
      "Training Complete.\n"
     ]
    }
   ],
   "metadata": {
    "ExecuteTime": {
     "end_time": "2021-12-11T08:18:33.847594Z",
     "start_time": "2021-12-11T08:18:18.197263Z"
    }
   }
  },
  {
   "cell_type": "markdown",
   "source": [
    "### Test Prediction"
   ],
   "metadata": {
    "ExecuteTime": {
     "end_time": "2021-11-29T12:13:43.664942Z",
     "start_time": "2021-11-29T12:13:43.641112Z"
    }
   }
  },
  {
   "cell_type": "code",
   "execution_count": 15,
   "source": [
    "testdata = pd.read_csv(\"./data/testdata.csv\")\n",
    "testdata1 = testdata[:10].copy(deep=True)\n",
    "testdata1.drop(columns=[\"label\"],axis=1,inplace=True)"
   ],
   "outputs": [],
   "metadata": {
    "ExecuteTime": {
     "end_time": "2021-12-11T08:18:44.719696Z",
     "start_time": "2021-12-11T08:18:44.706497Z"
    }
   }
  },
  {
   "cell_type": "code",
   "execution_count": 16,
   "source": [
    "testdata1"
   ],
   "outputs": [
    {
     "output_type": "execute_result",
     "data": {
      "text/html": [
       "<div>\n",
       "<style scoped>\n",
       "    .dataframe tbody tr th:only-of-type {\n",
       "        vertical-align: middle;\n",
       "    }\n",
       "\n",
       "    .dataframe tbody tr th {\n",
       "        vertical-align: top;\n",
       "    }\n",
       "\n",
       "    .dataframe thead th {\n",
       "        text-align: right;\n",
       "    }\n",
       "</style>\n",
       "<table border=\"1\" class=\"dataframe\">\n",
       "  <thead>\n",
       "    <tr style=\"text-align: right;\">\n",
       "      <th></th>\n",
       "      <th>Coord_X</th>\n",
       "      <th>Coord_Y</th>\n",
       "    </tr>\n",
       "  </thead>\n",
       "  <tbody>\n",
       "    <tr>\n",
       "      <th>0</th>\n",
       "      <td>-12.118184</td>\n",
       "      <td>-4.776587</td>\n",
       "    </tr>\n",
       "    <tr>\n",
       "      <th>1</th>\n",
       "      <td>-9.893147</td>\n",
       "      <td>0.342965</td>\n",
       "    </tr>\n",
       "    <tr>\n",
       "      <th>2</th>\n",
       "      <td>-10.483853</td>\n",
       "      <td>-9.362718</td>\n",
       "    </tr>\n",
       "    <tr>\n",
       "      <th>3</th>\n",
       "      <td>-9.926457</td>\n",
       "      <td>-5.337223</td>\n",
       "    </tr>\n",
       "    <tr>\n",
       "      <th>4</th>\n",
       "      <td>6.855357</td>\n",
       "      <td>9.917814</td>\n",
       "    </tr>\n",
       "    <tr>\n",
       "      <th>5</th>\n",
       "      <td>-7.032794</td>\n",
       "      <td>-2.027453</td>\n",
       "    </tr>\n",
       "    <tr>\n",
       "      <th>6</th>\n",
       "      <td>-8.412141</td>\n",
       "      <td>-3.723905</td>\n",
       "    </tr>\n",
       "    <tr>\n",
       "      <th>7</th>\n",
       "      <td>-10.343032</td>\n",
       "      <td>-5.507503</td>\n",
       "    </tr>\n",
       "    <tr>\n",
       "      <th>8</th>\n",
       "      <td>-11.132471</td>\n",
       "      <td>-3.226087</td>\n",
       "    </tr>\n",
       "    <tr>\n",
       "      <th>9</th>\n",
       "      <td>9.028458</td>\n",
       "      <td>4.500849</td>\n",
       "    </tr>\n",
       "  </tbody>\n",
       "</table>\n",
       "</div>"
      ],
      "text/plain": [
       "     Coord_X   Coord_Y\n",
       "0 -12.118184 -4.776587\n",
       "1  -9.893147  0.342965\n",
       "2 -10.483853 -9.362718\n",
       "3  -9.926457 -5.337223\n",
       "4   6.855357  9.917814\n",
       "5  -7.032794 -2.027453\n",
       "6  -8.412141 -3.723905\n",
       "7 -10.343032 -5.507503\n",
       "8 -11.132471 -3.226087\n",
       "9   9.028458  4.500849"
      ]
     },
     "metadata": {},
     "execution_count": 16
    }
   ],
   "metadata": {
    "ExecuteTime": {
     "end_time": "2021-12-11T08:18:46.681096Z",
     "start_time": "2021-12-11T08:18:46.654373Z"
    },
    "cell_style": "split"
   }
  },
  {
   "cell_type": "code",
   "execution_count": 17,
   "source": [
    "testdata[:10]"
   ],
   "outputs": [
    {
     "output_type": "execute_result",
     "data": {
      "text/html": [
       "<div>\n",
       "<style scoped>\n",
       "    .dataframe tbody tr th:only-of-type {\n",
       "        vertical-align: middle;\n",
       "    }\n",
       "\n",
       "    .dataframe tbody tr th {\n",
       "        vertical-align: top;\n",
       "    }\n",
       "\n",
       "    .dataframe thead th {\n",
       "        text-align: right;\n",
       "    }\n",
       "</style>\n",
       "<table border=\"1\" class=\"dataframe\">\n",
       "  <thead>\n",
       "    <tr style=\"text-align: right;\">\n",
       "      <th></th>\n",
       "      <th>Coord_X</th>\n",
       "      <th>Coord_Y</th>\n",
       "      <th>label</th>\n",
       "    </tr>\n",
       "  </thead>\n",
       "  <tbody>\n",
       "    <tr>\n",
       "      <th>0</th>\n",
       "      <td>-12.118184</td>\n",
       "      <td>-4.776587</td>\n",
       "      <td>Blue</td>\n",
       "    </tr>\n",
       "    <tr>\n",
       "      <th>1</th>\n",
       "      <td>-9.893147</td>\n",
       "      <td>0.342965</td>\n",
       "      <td>Blue</td>\n",
       "    </tr>\n",
       "    <tr>\n",
       "      <th>2</th>\n",
       "      <td>-10.483853</td>\n",
       "      <td>-9.362718</td>\n",
       "      <td>Blue</td>\n",
       "    </tr>\n",
       "    <tr>\n",
       "      <th>3</th>\n",
       "      <td>-9.926457</td>\n",
       "      <td>-5.337223</td>\n",
       "      <td>Blue</td>\n",
       "    </tr>\n",
       "    <tr>\n",
       "      <th>4</th>\n",
       "      <td>6.855357</td>\n",
       "      <td>9.917814</td>\n",
       "      <td>Red</td>\n",
       "    </tr>\n",
       "    <tr>\n",
       "      <th>5</th>\n",
       "      <td>-7.032794</td>\n",
       "      <td>-2.027453</td>\n",
       "      <td>Blue</td>\n",
       "    </tr>\n",
       "    <tr>\n",
       "      <th>6</th>\n",
       "      <td>-8.412141</td>\n",
       "      <td>-3.723905</td>\n",
       "      <td>Blue</td>\n",
       "    </tr>\n",
       "    <tr>\n",
       "      <th>7</th>\n",
       "      <td>-10.343032</td>\n",
       "      <td>-5.507503</td>\n",
       "      <td>Blue</td>\n",
       "    </tr>\n",
       "    <tr>\n",
       "      <th>8</th>\n",
       "      <td>-11.132471</td>\n",
       "      <td>-3.226087</td>\n",
       "      <td>Blue</td>\n",
       "    </tr>\n",
       "    <tr>\n",
       "      <th>9</th>\n",
       "      <td>9.028458</td>\n",
       "      <td>4.500849</td>\n",
       "      <td>Red</td>\n",
       "    </tr>\n",
       "  </tbody>\n",
       "</table>\n",
       "</div>"
      ],
      "text/plain": [
       "     Coord_X   Coord_Y label\n",
       "0 -12.118184 -4.776587  Blue\n",
       "1  -9.893147  0.342965  Blue\n",
       "2 -10.483853 -9.362718  Blue\n",
       "3  -9.926457 -5.337223  Blue\n",
       "4   6.855357  9.917814   Red\n",
       "5  -7.032794 -2.027453  Blue\n",
       "6  -8.412141 -3.723905  Blue\n",
       "7 -10.343032 -5.507503  Blue\n",
       "8 -11.132471 -3.226087  Blue\n",
       "9   9.028458  4.500849   Red"
      ]
     },
     "metadata": {},
     "execution_count": 17
    }
   ],
   "metadata": {
    "ExecuteTime": {
     "end_time": "2021-12-11T08:18:50.169220Z",
     "start_time": "2021-12-11T08:18:50.157279Z"
    },
    "cell_style": "split"
   }
  },
  {
   "cell_type": "code",
   "execution_count": 18,
   "source": [
    "scaleddata = scale_data(\"scaler-knn\",testdata1)"
   ],
   "outputs": [],
   "metadata": {
    "ExecuteTime": {
     "end_time": "2021-12-11T08:18:54.130528Z",
     "start_time": "2021-12-11T08:18:54.124246Z"
    }
   }
  },
  {
   "cell_type": "code",
   "execution_count": 19,
   "source": [
    "scaleddata"
   ],
   "outputs": [
    {
     "output_type": "execute_result",
     "data": {
      "text/plain": [
       "array([[0.14124111, 0.36956263],\n",
       "       [0.21711604, 0.52443262],\n",
       "       [0.19697265, 0.23082897],\n",
       "       [0.21598018, 0.35260299],\n",
       "       [0.78824895, 0.81407846],\n",
       "       [0.31465563, 0.45272582],\n",
       "       [0.26761915, 0.40140697],\n",
       "       [0.20177475, 0.34745189],\n",
       "       [0.17485446, 0.41646634],\n",
       "       [0.86235285, 0.65021151]])"
      ]
     },
     "metadata": {},
     "execution_count": 19
    }
   ],
   "metadata": {
    "ExecuteTime": {
     "end_time": "2021-12-11T08:18:56.268745Z",
     "start_time": "2021-12-11T08:18:56.263935Z"
    }
   }
  },
  {
   "cell_type": "code",
   "execution_count": 23,
   "source": [
    "logged_model = 'runs:/4dad08dcd722411bab141c715cdf411a/models'\n",
    "loaded_model = mlflow.pyfunc.load_model(logged_model)\n",
    "loaded_model.predict(scaleddata)"
   ],
   "outputs": [
    {
     "output_type": "execute_result",
     "data": {
      "text/plain": [
       "array(['Blue', 'Blue', 'Blue', 'Blue', 'Red', 'Blue', 'Blue', 'Blue',\n",
       "       'Blue', 'Red'], dtype=object)"
      ]
     },
     "metadata": {},
     "execution_count": 23
    }
   ],
   "metadata": {
    "ExecuteTime": {
     "end_time": "2021-12-11T08:24:08.498991Z",
     "start_time": "2021-12-11T08:24:08.467592Z"
    }
   }
  },
  {
   "cell_type": "markdown",
   "source": [
    "---"
   ],
   "metadata": {}
  },
  {
   "cell_type": "markdown",
   "source": [
    "### Training and Tracking - Random Forest Classifier"
   ],
   "metadata": {}
  },
  {
   "cell_type": "code",
   "execution_count": 24,
   "source": [
    "from sklearn.ensemble import RandomForestClassifier"
   ],
   "outputs": [],
   "metadata": {
    "ExecuteTime": {
     "end_time": "2021-12-11T08:20:29.529621Z",
     "start_time": "2021-12-11T08:20:29.512247Z"
    }
   }
  },
  {
   "cell_type": "code",
   "execution_count": 25,
   "source": [
    "model = RandomForestClassifier(n_estimators=250,max_depth=7)\n",
    "params = {\"estimators\":250,\"max_depth\":7}"
   ],
   "outputs": [],
   "metadata": {
    "ExecuteTime": {
     "end_time": "2021-12-11T08:20:33.256858Z",
     "start_time": "2021-12-11T08:20:33.249628Z"
    }
   }
  },
  {
   "cell_type": "code",
   "execution_count": 26,
   "source": [
    "for i,data in enumerate(datas):\n",
    "    print(\"Training on: \",data)\n",
    "    df = pd.read_csv(data)\n",
    "    X, y = transform_data(df,\"scaler-rfc\")  \n",
    "    tag = {\"data\":\"sample\"+str(i), \"model\": \"RandomForestClassifier\", }\n",
    "    with mlflow.start_run(run_name=\"random-forest-test-run\"+str(i)):\n",
    "        mlflow.set_tags(tag)\n",
    "        metrics = train_model(X, y, model)\n",
    "        mlflow.log_params(params)\n",
    "\n",
    "        mlflow.log_metric(\"Avg CV\",sum(metrics[\"cv_score\"])/10)\n",
    "        mlflow.log_metric(\"Accuracy\", metrics[\"accuracy\"])\n",
    "        mlflow.sklearn.log_model(model, artifact_path=\"models\")\n",
    "    mlflow.end_run()"
   ],
   "outputs": [
    {
     "output_type": "stream",
     "name": "stdout",
     "text": [
      "Training on:  ./data/sample1.csv\n",
      "Saving Scaler... {'min': array([-16.26008744, -14.70411995]), 'max': array([13.06496848, 15.24576771])}\n",
      "Training on:  ./data/sample2.csv\n",
      "Saving Scaler... {'min': array([-16.26008744, -14.70411995]), 'max': array([13.06496848, 15.24576771])}\n",
      "Training on:  ./data/sample3.csv\n",
      "Saving Scaler... {'min': array([-16.26008744, -14.70411995]), 'max': array([13.06496848, 15.24576771])}\n",
      "Training on:  ./data/sample4.csv\n",
      "Saving Scaler... {'min': array([-16.26008744, -16.99325222]), 'max': array([13.06496848, 15.24576771])}\n",
      "Training on:  ./data/sample5.csv\n",
      "Saving Scaler... {'min': array([-16.26008744, -16.99325222]), 'max': array([13.06496848, 15.24576771])}\n",
      "Training on:  ./data/sample6.csv\n",
      "Saving Scaler... {'min': array([-16.26008744, -16.99325222]), 'max': array([13.06496848, 15.24576771])}\n",
      "Training on:  ./data/sample7.csv\n",
      "Saving Scaler... {'min': array([-16.26008744, -16.99325222]), 'max': array([13.06496848, 15.24576771])}\n",
      "Training on:  ./data/sample8.csv\n",
      "Saving Scaler... {'min': array([-16.26008744, -16.99325222]), 'max': array([13.06496848, 15.24576771])}\n",
      "Training on:  ./data/sample9.csv\n",
      "Saving Scaler... {'min': array([-16.26008744, -16.99325222]), 'max': array([13.06496848, 15.24576771])}\n",
      "Training on:  ./data/sample10.csv\n",
      "Saving Scaler... {'min': array([-16.26008744, -16.99325222]), 'max': array([13.06496848, 16.0638389 ])}\n"
     ]
    }
   ],
   "metadata": {
    "ExecuteTime": {
     "end_time": "2021-12-11T08:21:26.789187Z",
     "start_time": "2021-12-11T08:20:48.934623Z"
    }
   }
  },
  {
   "cell_type": "markdown",
   "source": [
    "### Test Prediction"
   ],
   "metadata": {
    "ExecuteTime": {
     "end_time": "2021-11-29T12:13:43.664942Z",
     "start_time": "2021-11-29T12:13:43.641112Z"
    }
   }
  },
  {
   "cell_type": "code",
   "execution_count": 29,
   "source": [
    "testdata = pd.read_csv(\"./data/testdata.csv\")\n",
    "testdata1 = testdata[30:40].copy(deep=True)\n",
    "testdata1.drop(columns=[\"label\"],axis=1,inplace=True)"
   ],
   "outputs": [],
   "metadata": {
    "ExecuteTime": {
     "end_time": "2021-12-08T06:35:40.027045Z",
     "start_time": "2021-12-08T06:35:40.009736Z"
    }
   }
  },
  {
   "cell_type": "code",
   "execution_count": 30,
   "source": [
    "testdata1"
   ],
   "outputs": [
    {
     "output_type": "execute_result",
     "data": {
      "text/html": [
       "<div>\n",
       "<style scoped>\n",
       "    .dataframe tbody tr th:only-of-type {\n",
       "        vertical-align: middle;\n",
       "    }\n",
       "\n",
       "    .dataframe tbody tr th {\n",
       "        vertical-align: top;\n",
       "    }\n",
       "\n",
       "    .dataframe thead th {\n",
       "        text-align: right;\n",
       "    }\n",
       "</style>\n",
       "<table border=\"1\" class=\"dataframe\">\n",
       "  <thead>\n",
       "    <tr style=\"text-align: right;\">\n",
       "      <th></th>\n",
       "      <th>Coord_X</th>\n",
       "      <th>Coord_Y</th>\n",
       "    </tr>\n",
       "  </thead>\n",
       "  <tbody>\n",
       "    <tr>\n",
       "      <th>30</th>\n",
       "      <td>6.622613</td>\n",
       "      <td>5.391746</td>\n",
       "    </tr>\n",
       "    <tr>\n",
       "      <th>31</th>\n",
       "      <td>-10.323982</td>\n",
       "      <td>-2.317440</td>\n",
       "    </tr>\n",
       "    <tr>\n",
       "      <th>32</th>\n",
       "      <td>4.245213</td>\n",
       "      <td>7.159069</td>\n",
       "    </tr>\n",
       "    <tr>\n",
       "      <th>33</th>\n",
       "      <td>5.033033</td>\n",
       "      <td>7.059280</td>\n",
       "    </tr>\n",
       "    <tr>\n",
       "      <th>34</th>\n",
       "      <td>-9.004518</td>\n",
       "      <td>-1.801242</td>\n",
       "    </tr>\n",
       "    <tr>\n",
       "      <th>35</th>\n",
       "      <td>-10.162748</td>\n",
       "      <td>-3.043643</td>\n",
       "    </tr>\n",
       "    <tr>\n",
       "      <th>36</th>\n",
       "      <td>8.347467</td>\n",
       "      <td>3.078762</td>\n",
       "    </tr>\n",
       "    <tr>\n",
       "      <th>37</th>\n",
       "      <td>4.891885</td>\n",
       "      <td>4.554404</td>\n",
       "    </tr>\n",
       "    <tr>\n",
       "      <th>38</th>\n",
       "      <td>-8.968798</td>\n",
       "      <td>-5.160931</td>\n",
       "    </tr>\n",
       "    <tr>\n",
       "      <th>39</th>\n",
       "      <td>3.005623</td>\n",
       "      <td>9.855042</td>\n",
       "    </tr>\n",
       "  </tbody>\n",
       "</table>\n",
       "</div>"
      ],
      "text/plain": [
       "      Coord_X   Coord_Y\n",
       "30   6.622613  5.391746\n",
       "31 -10.323982 -2.317440\n",
       "32   4.245213  7.159069\n",
       "33   5.033033  7.059280\n",
       "34  -9.004518 -1.801242\n",
       "35 -10.162748 -3.043643\n",
       "36   8.347467  3.078762\n",
       "37   4.891885  4.554404\n",
       "38  -8.968798 -5.160931\n",
       "39   3.005623  9.855042"
      ]
     },
     "metadata": {},
     "execution_count": 30
    }
   ],
   "metadata": {
    "ExecuteTime": {
     "end_time": "2021-12-08T06:35:41.791653Z",
     "start_time": "2021-12-08T06:35:41.779008Z"
    },
    "cell_style": "split"
   }
  },
  {
   "cell_type": "code",
   "execution_count": 31,
   "source": [
    "testdata[30:40]"
   ],
   "outputs": [
    {
     "output_type": "execute_result",
     "data": {
      "text/html": [
       "<div>\n",
       "<style scoped>\n",
       "    .dataframe tbody tr th:only-of-type {\n",
       "        vertical-align: middle;\n",
       "    }\n",
       "\n",
       "    .dataframe tbody tr th {\n",
       "        vertical-align: top;\n",
       "    }\n",
       "\n",
       "    .dataframe thead th {\n",
       "        text-align: right;\n",
       "    }\n",
       "</style>\n",
       "<table border=\"1\" class=\"dataframe\">\n",
       "  <thead>\n",
       "    <tr style=\"text-align: right;\">\n",
       "      <th></th>\n",
       "      <th>Coord_X</th>\n",
       "      <th>Coord_Y</th>\n",
       "      <th>label</th>\n",
       "    </tr>\n",
       "  </thead>\n",
       "  <tbody>\n",
       "    <tr>\n",
       "      <th>30</th>\n",
       "      <td>6.622613</td>\n",
       "      <td>5.391746</td>\n",
       "      <td>Red</td>\n",
       "    </tr>\n",
       "    <tr>\n",
       "      <th>31</th>\n",
       "      <td>-10.323982</td>\n",
       "      <td>-2.317440</td>\n",
       "      <td>Blue</td>\n",
       "    </tr>\n",
       "    <tr>\n",
       "      <th>32</th>\n",
       "      <td>4.245213</td>\n",
       "      <td>7.159069</td>\n",
       "      <td>Red</td>\n",
       "    </tr>\n",
       "    <tr>\n",
       "      <th>33</th>\n",
       "      <td>5.033033</td>\n",
       "      <td>7.059280</td>\n",
       "      <td>Red</td>\n",
       "    </tr>\n",
       "    <tr>\n",
       "      <th>34</th>\n",
       "      <td>-9.004518</td>\n",
       "      <td>-1.801242</td>\n",
       "      <td>Blue</td>\n",
       "    </tr>\n",
       "    <tr>\n",
       "      <th>35</th>\n",
       "      <td>-10.162748</td>\n",
       "      <td>-3.043643</td>\n",
       "      <td>Blue</td>\n",
       "    </tr>\n",
       "    <tr>\n",
       "      <th>36</th>\n",
       "      <td>8.347467</td>\n",
       "      <td>3.078762</td>\n",
       "      <td>Red</td>\n",
       "    </tr>\n",
       "    <tr>\n",
       "      <th>37</th>\n",
       "      <td>4.891885</td>\n",
       "      <td>4.554404</td>\n",
       "      <td>Red</td>\n",
       "    </tr>\n",
       "    <tr>\n",
       "      <th>38</th>\n",
       "      <td>-8.968798</td>\n",
       "      <td>-5.160931</td>\n",
       "      <td>Blue</td>\n",
       "    </tr>\n",
       "    <tr>\n",
       "      <th>39</th>\n",
       "      <td>3.005623</td>\n",
       "      <td>9.855042</td>\n",
       "      <td>Red</td>\n",
       "    </tr>\n",
       "  </tbody>\n",
       "</table>\n",
       "</div>"
      ],
      "text/plain": [
       "      Coord_X   Coord_Y label\n",
       "30   6.622613  5.391746   Red\n",
       "31 -10.323982 -2.317440  Blue\n",
       "32   4.245213  7.159069   Red\n",
       "33   5.033033  7.059280   Red\n",
       "34  -9.004518 -1.801242  Blue\n",
       "35 -10.162748 -3.043643  Blue\n",
       "36   8.347467  3.078762   Red\n",
       "37   4.891885  4.554404   Red\n",
       "38  -8.968798 -5.160931  Blue\n",
       "39   3.005623  9.855042   Red"
      ]
     },
     "metadata": {},
     "execution_count": 31
    }
   ],
   "metadata": {
    "ExecuteTime": {
     "end_time": "2021-12-08T06:35:43.909319Z",
     "start_time": "2021-12-08T06:35:43.897923Z"
    },
    "cell_style": "split"
   }
  },
  {
   "cell_type": "code",
   "execution_count": 32,
   "source": [
    "scaleddata = scale_data(\"scaler-rfc\",testdata1)"
   ],
   "outputs": [],
   "metadata": {
    "ExecuteTime": {
     "end_time": "2021-12-08T06:35:47.724392Z",
     "start_time": "2021-12-08T06:35:47.713898Z"
    }
   }
  },
  {
   "cell_type": "code",
   "execution_count": 35,
   "source": [
    "logged_model = 'runs:/d25627855c394e31aec1f2f294957af4/models'\n",
    "loaded_model = mlflow.pyfunc.load_model(logged_model)\n",
    "loaded_model.predict(scaleddata)"
   ],
   "outputs": [
    {
     "output_type": "execute_result",
     "data": {
      "text/plain": [
       "array(['Red', 'Blue', 'Red', 'Red', 'Blue', 'Blue', 'Red', 'Red', 'Blue',\n",
       "       'Red'], dtype=object)"
      ]
     },
     "metadata": {},
     "execution_count": 35
    }
   ],
   "metadata": {
    "ExecuteTime": {
     "end_time": "2021-12-08T06:35:55.730557Z",
     "start_time": "2021-12-08T06:35:55.668855Z"
    }
   }
  },
  {
   "cell_type": "code",
   "execution_count": null,
   "source": [],
   "outputs": [],
   "metadata": {}
  }
 ],
 "metadata": {
  "kernelspec": {
   "name": "python3",
   "display_name": "Python 3.8.8 64-bit ('base': conda)"
  },
  "language_info": {
   "codemirror_mode": {
    "name": "ipython",
    "version": 3
   },
   "file_extension": ".py",
   "mimetype": "text/x-python",
   "name": "python",
   "nbconvert_exporter": "python",
   "pygments_lexer": "ipython3",
   "version": "3.8.8"
  },
  "latex_envs": {
   "LaTeX_envs_menu_present": true,
   "autoclose": false,
   "autocomplete": true,
   "bibliofile": "biblio.bib",
   "cite_by": "apalike",
   "current_citInitial": 1,
   "eqLabelWithNumbers": true,
   "eqNumInitial": 1,
   "hotkeys": {
    "equation": "Ctrl-E",
    "itemize": "Ctrl-I"
   },
   "labels_anchors": false,
   "latex_user_defs": false,
   "report_style_numbering": false,
   "user_envs_cfg": false
  },
  "interpreter": {
   "hash": "86ff1f7cab66448a57497af263ca97c38850d2abfd7a10a142252f52b5ac0f8c"
  }
 },
 "nbformat": 4,
 "nbformat_minor": 5
}